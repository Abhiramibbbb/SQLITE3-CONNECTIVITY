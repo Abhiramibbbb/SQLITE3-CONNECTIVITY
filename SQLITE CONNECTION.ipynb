{
 "cells": [
  {
   "cell_type": "code",
   "execution_count": 12,
   "id": "d9f09adf",
   "metadata": {},
   "outputs": [
    {
     "name": "stdout",
     "output_type": "stream",
     "text": [
      "OPENED DATABASE SUCCESSFULLY\n"
     ]
    }
   ],
   "source": [
    "import sqlite3\n",
    "conn=sqlite3.connect('INDUSTRY')\n",
    "print('OPENED DATABASE SUCCESSFULLY')"
   ]
  },
  {
   "cell_type": "code",
   "execution_count": 13,
   "id": "1c58b135",
   "metadata": {},
   "outputs": [
    {
     "name": "stdout",
     "output_type": "stream",
     "text": [
      "TABLE CREATED SUCCESSFULLY\n"
     ]
    }
   ],
   "source": [
    "conn.execute('''CREATE TABLE INDUSTRY\n",
    "           (ID INT PRIMARYN KEY,\n",
    "           NAME Text,\n",
    "           AGE Int,\n",
    "           ADDRESS Char(50),\n",
    "           salary real);''')\n",
    "print('TABLE CREATED SUCCESSFULLY')"
   ]
  },
  {
   "cell_type": "code",
   "execution_count": 14,
   "id": "516044b1",
   "metadata": {},
   "outputs": [
    {
     "name": "stdout",
     "output_type": "stream",
     "text": [
      "records created successfully\n"
     ]
    }
   ],
   "source": [
    "conn.execute('''INSERT INTO INDUSTRY VALUES(1,'ABHI',19,'INDIA',200000)''');\n",
    "conn.execute('''INSERT INTO INDUSTRY VALUES(2,'AAKASH',20,'USA',250000)''');\n",
    "conn.execute('''INSERT INTO INDUSTRY VALUES(3,'ABINESH',21,'UK',300000)''');\n",
    "conn.commit()\n",
    "print('records created successfully')\n"
   ]
  },
  {
   "cell_type": "code",
   "execution_count": 15,
   "id": "f7dc3536",
   "metadata": {},
   "outputs": [
    {
     "name": "stdout",
     "output_type": "stream",
     "text": [
      "(1, 'ABHI', 19, 'INDIA', 200000.0)\n",
      "(2, 'AAKASH', 20, 'USA', 250000.0)\n",
      "(3, 'ABINESH', 21, 'UK', 300000.0)\n"
     ]
    }
   ],
   "source": [
    "cursor=conn.execute(\"SELECT* from INDUSTRY\")\n",
    "for row in cursor:\n",
    "    print(row)"
   ]
  },
  {
   "cell_type": "code",
   "execution_count": 18,
   "id": "db94b39b",
   "metadata": {},
   "outputs": [
    {
     "name": "stdout",
     "output_type": "stream",
     "text": [
      "total numberb of rows updated: 6\n"
     ]
    }
   ],
   "source": [
    "conn.execute(\"UPDATE INDUSTRY set salary=300000 where ID=3\")\n",
    "conn.commit()\n",
    "print(\"total numberb of rows updated:\",conn.total_changes)"
   ]
  },
  {
   "cell_type": "code",
   "execution_count": 35,
   "id": "b87c6a10",
   "metadata": {},
   "outputs": [
    {
     "name": "stdout",
     "output_type": "stream",
     "text": [
      "(1, 'ABHI', 19, 'INDIA', 300000.0)\n",
      "(2, 'AAKASH', 20, 'USA', 250000.0)\n",
      "(3, 'ABINESH', 21, 'UK', 300000.0)\n"
     ]
    }
   ],
   "source": [
    "for row in cursor.execute(\"SELECT* FROM INDUSTRY ORDER BY AGE\"):\n",
    "    print(row)"
   ]
  },
  {
   "cell_type": "code",
   "execution_count": 34,
   "id": "5f4a537e",
   "metadata": {},
   "outputs": [
    {
     "name": "stdout",
     "output_type": "stream",
     "text": [
      "('ABHI',)\n",
      "('AAKASH',)\n",
      "('ABINESH',)\n"
     ]
    }
   ],
   "source": [
    "for row in cursor.execute(\"SELECT DISTINCT NAME from INDUSTRY WHERE NAME LIKE 'A%'\"):\n",
    "    print(row)"
   ]
  },
  {
   "cell_type": "code",
   "execution_count": 37,
   "id": "8cc42a49",
   "metadata": {},
   "outputs": [
    {
     "name": "stdout",
     "output_type": "stream",
     "text": [
      "(1, 'ABHI', 19, 'INDIA', 300000.0)\n",
      "(3, 'ABINESH', 21, 'UK', 300000.0)\n"
     ]
    }
   ],
   "source": [
    "for row in cursor.execute(\"SELECT* FROM INDUSTRY WHERE AGE IN (19,21)\"):\n",
    "                          print(row)"
   ]
  },
  {
   "cell_type": "code",
   "execution_count": 38,
   "id": "3de2c7a9",
   "metadata": {},
   "outputs": [
    {
     "name": "stdout",
     "output_type": "stream",
     "text": [
      "(2, 'AAKASH', 20, 'USA', 250000.0)\n"
     ]
    }
   ],
   "source": [
    "for row in cursor.execute(\"SELECT* FROM INDUSTRY WHERE AGE NOT IN (19,21)\"):\n",
    "                          print(row)"
   ]
  },
  {
   "cell_type": "code",
   "execution_count": 43,
   "id": "18beb690",
   "metadata": {},
   "outputs": [
    {
     "name": "stdout",
     "output_type": "stream",
     "text": [
      "(1, 'ABHI', 19, 'INDIA', 300000.0)\n",
      "(2, 'AAKASH', 20, 'USA', 250000.0)\n",
      "(3, 'ABINESH', 21, 'UK', 300000.0)\n"
     ]
    }
   ],
   "source": [
    "for row in cursor.execute(\"SELECT* FROM INDUSTRY WHERE AGE BETWEEN 19 AND 21\"):\n",
    "                          print(row)"
   ]
  },
  {
   "cell_type": "code",
   "execution_count": 48,
   "id": "a57a2aee",
   "metadata": {},
   "outputs": [
    {
     "name": "stdout",
     "output_type": "stream",
     "text": [
      "(2, 'AAKASH', 20, 'USA', 250000.0)\n"
     ]
    }
   ],
   "source": [
    "for row in cursor.execute(\"SELECT* FROM INDUSTRY WHERE AGE>19 AND AGE<21\"):\n",
    "                          print(row)"
   ]
  },
  {
   "cell_type": "code",
   "execution_count": 49,
   "id": "97042bda",
   "metadata": {},
   "outputs": [
    {
     "name": "stdout",
     "output_type": "stream",
     "text": [
      "(1, 'ABHI', 19, 'INDIA', 300000.0)\n",
      "(2, 'AAKASH', 20, 'USA', 250000.0)\n",
      "(3, 'ABINESH', 21, 'UK', 300000.0)\n"
     ]
    }
   ],
   "source": [
    "for row in cursor.execute(\"SELECT* FROM INDUSTRY WHERE AGE>19 or AGE<21\"):\n",
    "                          print(row)"
   ]
  },
  {
   "cell_type": "code",
   "execution_count": 51,
   "id": "ac4cfede",
   "metadata": {},
   "outputs": [
    {
     "name": "stdout",
     "output_type": "stream",
     "text": [
      "(2, 'AAKASH', 20, 'USA', 250000.0)\n",
      "(3, 'ABINESH', 21, 'UK', 300000.0)\n"
     ]
    }
   ],
   "source": [
    "for row in cursor.execute(\"SELECT* FROM INDUSTRY WHERE AGE!=19 \"):\n",
    "                          print(row)"
   ]
  },
  {
   "cell_type": "code",
   "execution_count": 52,
   "id": "765f31cb",
   "metadata": {},
   "outputs": [
    {
     "name": "stdout",
     "output_type": "stream",
     "text": [
      "(1, 'ABHI', 19, 'INDIA', 300000.0)\n",
      "(2, 'AAKASH', 20, 'USA', 250000.0)\n",
      "(3, 'ABINESH', 21, 'UK', 300000.0)\n"
     ]
    }
   ],
   "source": [
    "for row in cursor.execute(\"SELECT* FROM INDUSTRY WHERe NAME GLOB'A*'\"):\n",
    "                          print(row)"
   ]
  },
  {
   "cell_type": "code",
   "execution_count": null,
   "id": "a27112e5",
   "metadata": {},
   "outputs": [],
   "source": []
  }
 ],
 "metadata": {
  "kernelspec": {
   "display_name": "Python 3 (ipykernel)",
   "language": "python",
   "name": "python3"
  },
  "language_info": {
   "codemirror_mode": {
    "name": "ipython",
    "version": 3
   },
   "file_extension": ".py",
   "mimetype": "text/x-python",
   "name": "python",
   "nbconvert_exporter": "python",
   "pygments_lexer": "ipython3",
   "version": "3.9.7"
  }
 },
 "nbformat": 4,
 "nbformat_minor": 5
}
